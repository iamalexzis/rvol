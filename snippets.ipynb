{
 "cells": [
  {
   "cell_type": "markdown",
   "metadata": {},
   "source": [
    "simulation of fbm using cholesky-method"
   ]
  },
  {
   "cell_type": "code",
   "execution_count": null,
   "metadata": {},
   "outputs": [],
   "source": [
    "import numpy as np\n",
    "def fbm(T,n,H):\n",
    "    dt = (T/n)**(2*H)*np.ones(n)\n",
    "    cov = np.zeros((n,n))\n",
    "    for i in np.arange(1,n+1):\n",
    "        for j in np.arange(1,n+1):\n",
    "            cov[i-1,j-1]=i**(2*H)+j**(2*H)-abs(i-j)**(2*H)\n",
    "    C = np.linalg.cholesky(cov)\n",
    "    Z = np.random.randn(n)*np.ones(n)\n",
    "    return dt*np.dot(C, Z)"
   ]
  },
  {
   "cell_type": "markdown",
   "metadata": {},
   "source": [
    "for faster simulation using fbm module and other methods e.g. davies-harte"
   ]
  },
  {
   "cell_type": "code",
   "execution_count": null,
   "metadata": {},
   "outputs": [],
   "source": [
    "from fbm import fgn\n",
    "fgn_sample = fgn(n=1000, hurst=0.14, length=1, method='daviesharte')"
   ]
  },
  {
   "cell_type": "markdown",
   "metadata": {},
   "source": [
    "calculating rough volatility process in rfsv-model for given fgn process"
   ]
  },
  {
   "cell_type": "code",
   "execution_count": null,
   "metadata": {},
   "outputs": [],
   "source": [
    "import numpy as np\n",
    "def sim_vol(T,nu,fgn):\n",
    "    n = len(fbm)\n",
    "    dt = T/n\n",
    "    fou = [-3.2]\n",
    "    for i in range(n-1):\n",
    "        fou.append(fou[i]+nu*fgn[i+1]*dt)\n",
    "    return np.sqrt(np.exp(fou))"
   ]
  },
  {
   "cell_type": "markdown",
   "metadata": {},
   "source": [
    "simulation of asset price process with euler for given volatility process (without correlation between volatility & stockprice)"
   ]
  },
  {
   "cell_type": "code",
   "execution_count": null,
   "metadata": {},
   "outputs": [],
   "source": [
    "import numpy as np\n",
    "def sim_price(S0,T,vol):\n",
    "    n = len(vol)\n",
    "    dt = T/n\n",
    "    prices = [S0]\n",
    "    for i in range(n-1):\n",
    "        prices.append(prices[i]*np.exp(vol[i+1]*np.random.randn(1)[0]*np.sqrt(dt)-0.5*vol[i+1]**2*dt))\n",
    "    return prices"
   ]
  },
  {
   "cell_type": "markdown",
   "metadata": {},
   "source": [
    "function for calculating the rv process out of price ticks, given in seconds"
   ]
  },
  {
   "cell_type": "code",
   "execution_count": null,
   "metadata": {},
   "outputs": [],
   "source": [
    "import numpy as np\n",
    "def rvol(ticks):\n",
    "    log_prices = []\n",
    "    for i in range(len(interval)-1):\n",
    "        log_prices.append(abs(np.log(ticks[(i+1)])-np.log(ticks[i]))**2)\n",
    "    rv_np = []\n",
    "    for i in range(round(len(log_prices)/step)-1):\n",
    "        rv_np.append(sum(log_prices[28800*i:28800*(i+1)]))\n",
    "    return np.sqrt(rv_np)"
   ]
  }
 ],
 "metadata": {
  "kernelspec": {
   "display_name": "Python 3",
   "language": "python",
   "name": "python3"
  },
  "language_info": {
   "codemirror_mode": {
    "name": "ipython",
    "version": 3
   },
   "file_extension": ".py",
   "mimetype": "text/x-python",
   "name": "python",
   "nbconvert_exporter": "python",
   "pygments_lexer": "ipython3",
   "version": "3.6.6+"
  }
 },
 "nbformat": 4,
 "nbformat_minor": 2
}
